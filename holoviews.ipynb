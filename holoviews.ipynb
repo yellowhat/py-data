{
 "cells": [
  {
   "cell_type": "markdown",
   "id": "05fcd362-1d26-48f8-a4fa-39f3a3cd7f41",
   "metadata": {},
   "source": [
    "# holoview\n",
    "Use holoview to create dashboard with dropdown"
   ]
  },
  {
   "cell_type": "code",
   "execution_count": null,
   "id": "0d3ed0d0-b4c7-484e-bb1e-999f0d783e24",
   "metadata": {},
   "outputs": [],
   "source": [
    "import holoviews as hv\n",
    "from holoviews import opts, dim\n",
    "hv.extension(\"bokeh\")"
   ]
  },
  {
   "cell_type": "code",
   "execution_count": null,
   "id": "cd292e0f-5259-4f32-96ea-e680dbf93d8a",
   "metadata": {},
   "outputs": [],
   "source": [
    "from bokeh.sampledata.autompg import autompg_clean as df\n",
    "df"
   ]
  },
  {
   "cell_type": "code",
   "execution_count": null,
   "id": "061c6b82-3f9e-4432-a463-159aad470b70",
   "metadata": {},
   "outputs": [],
   "source": [
    "import panel as pn\n",
    "\n",
    "def load_symbol(origin, mfr, **kwargs):\n",
    "    df_tmp = df[df.origin.isin(origin) & df.mfr.isin(mfr)]\n",
    "    return hv.Curve(df_tmp, ('yr', 'hp')).opts(framewise=True)\n",
    "\n",
    "select_origin = pn.widgets.MultiSelect(\n",
    "    name=\"Origin\",\n",
    "    options=df.origin.unique().tolist(),\n",
    "    value=df.origin.unique().tolist(),\n",
    ")\n",
    "select_mfr = pn.widgets.MultiSelect(\n",
    "    name=\"Manufacter\",\n",
    "    options=df.mfr.unique().tolist(),\n",
    "    value=df.mfr.unique().tolist(),\n",
    ")\n",
    "\n",
    "dmap = hv.DynamicMap(pn.bind(load_symbol, select_origin, select_mfr))\n",
    "app = pn.Row(\n",
    "    pn.WidgetBox(\"## Options\", select_origin, select_mfr),\n",
    "    dmap,\n",
    ").servable()\n",
    "app"
   ]
  },
  {
   "cell_type": "code",
   "execution_count": null,
   "id": "a93d03dd-f8e6-408a-888f-76d6ee4d82bd",
   "metadata": {},
   "outputs": [],
   "source": [
    "keys = [\n",
    "    (\"yr\", \"Year\"),\n",
    "    (\"origin\", \"Origin\"),\n",
    "    (\"mfr\", \"Manufacture\"),\n",
    "]\n",
    "values = [\n",
    "    (\"hp\", \"HP\"),\n",
    "    (\"accel\", \"Acceleration\"),\n",
    "]\n",
    "macro = hv.Table(df, keys, values)\n",
    "\n",
    "hp = macro.to.curve(\"Year\", \"HP\", label=\"Horsepony\")\n",
    "accel = macro.to.curve(\"Year\", \"accel\", label=\"Acce\")\n",
    "\n",
    "(hp + accel).opts(\n",
    "    opts.Overlay(height=600, width=1024, show_frame=True),\n",
    ")"
   ]
  }
 ],
 "metadata": {
  "kernelspec": {
   "display_name": "Python 3 (ipykernel)",
   "language": "python",
   "name": "python3"
  },
  "language_info": {
   "codemirror_mode": {
    "name": "ipython",
    "version": 3
   },
   "file_extension": ".py",
   "mimetype": "text/x-python",
   "name": "python",
   "nbconvert_exporter": "python",
   "pygments_lexer": "ipython3",
   "version": "3.12.2"
  }
 },
 "nbformat": 4,
 "nbformat_minor": 5
}
