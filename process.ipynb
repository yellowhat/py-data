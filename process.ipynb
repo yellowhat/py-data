{
 "cells": [
  {
   "cell_type": "markdown",
   "metadata": {},
   "source": [
    "# Playing with pandas\n",
    "  "
   ]
  },
  {
   "cell_type": "markdown",
   "metadata": {},
   "source": [
    "## Get data\n",
    "\n",
    "```bash\n",
    "kubectl port-forward -n system svc/system-kube-prometheus-sta-prometheus 9090:9090 --address 0.0.0.0\n",
    "```"
   ]
  },
  {
   "cell_type": "code",
   "execution_count": 1,
   "metadata": {},
   "outputs": [
    {
     "name": "stdout",
     "output_type": "stream",
     "text": [
      "skipping\n"
     ]
    }
   ],
   "source": [
    "%%script echo skipping\n",
    "\n",
    "import requests\n",
    "from datetime import datetime, timedelta\n",
    "from json import dump\n",
    "\n",
    "now = datetime.now()\n",
    "one_week_ago = now - timedelta(weeks=1)\n",
    "\n",
    "# Get all metrics\n",
    "response = requests.get(\n",
    "    url=\"http://192.168.0.57:9090/api/v1/label/__name__/values\",\n",
    ")\n",
    "metrics = [m for m in response.json()[\"data\"] if m.startswith(\"solax\")]\n",
    "\n",
    "# Get metrics values\n",
    "data = {}\n",
    "for metric in metrics:\n",
    "    response = requests.get(\n",
    "        url=f\"http://192.168.0.57:9090/api/v1/query_range?query={metric}&start={one_week_ago.strftime('%s')}&end={now.strftime('%s')}&step=60\",\n",
    "    )\n",
    "    data[metric] = response.json()[\"data\"][\"result\"]\n",
    "\n",
    "with open(\"data.json\", \"w\") as obj: \n",
    "    dump(data, obj)"
   ]
  },
  {
   "cell_type": "code",
   "execution_count": 2,
   "metadata": {
    "editable": true,
    "slideshow": {
     "slide_type": ""
    },
    "tags": []
   },
   "outputs": [
    {
     "ename": "NameError",
     "evalue": "name 'data' is not defined",
     "output_type": "error",
     "traceback": [
      "\u001b[0;31m---------------------------------------------------------------------------\u001b[0m",
      "\u001b[0;31mNameError\u001b[0m                                 Traceback (most recent call last)",
      "Cell \u001b[0;32mIn[2], line 1\u001b[0m\n\u001b[0;32m----> 1\u001b[0m \u001b[43mdata\u001b[49m\n",
      "\u001b[0;31mNameError\u001b[0m: name 'data' is not defined"
     ]
    }
   ],
   "source": [
    "data"
   ]
  },
  {
   "cell_type": "code",
   "execution_count": null,
   "metadata": {},
   "outputs": [],
   "source": []
  }
 ],
 "metadata": {
  "kernelspec": {
   "display_name": "Python 3 (ipykernel)",
   "language": "python",
   "name": "python3"
  },
  "language_info": {
   "codemirror_mode": {
    "name": "ipython",
    "version": 3
   },
   "file_extension": ".py",
   "mimetype": "text/x-python",
   "name": "python",
   "nbconvert_exporter": "python",
   "pygments_lexer": "ipython3",
   "version": "3.12.2"
  }
 },
 "nbformat": 4,
 "nbformat_minor": 4
}
