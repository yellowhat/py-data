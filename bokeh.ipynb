{
 "cells": [
  {
   "cell_type": "markdown",
   "id": "78f252ef-2a1c-44b2-a205-136b37848631",
   "metadata": {},
   "source": [
    "# bokeh\n",
    "Example dashboard using bokeh with dropdown menu "
   ]
  },
  {
   "cell_type": "code",
   "execution_count": null,
   "id": "f80593dd-b486-4502-a77e-958c61296f04",
   "metadata": {},
   "outputs": [],
   "source": [
    "from bokeh.io import show\n",
    "from bokeh.layouts import column, row\n",
    "from bokeh.models import Select\n",
    "from bokeh.palettes import Spectral5\n",
    "from bokeh.plotting import curdoc, figure\n",
    "from bokeh.application import Application\n",
    "from bokeh.application.handlers import FunctionHandler\n",
    "\n",
    "from bokeh.sampledata.autompg import autompg_clean as df\n",
    "\n",
    "from bokeh.io import output_notebook\n",
    "output_notebook()"
   ]
  },
  {
   "cell_type": "code",
   "execution_count": null,
   "id": "560099a6-be76-47e0-9147-a2b065ac309a",
   "metadata": {
    "scrolled": true
   },
   "outputs": [],
   "source": [
    "def create_figure():\n",
    "    p = figure(height=600, width=800, tools='pan,box_zoom,hover,reset')\n",
    "    p.line(\n",
    "        x=df.index,\n",
    "        y=df[df[\"origin\"] == origin.value][\"hp\"],\n",
    "    )\n",
    "    return p\n",
    "\n",
    "\n",
    "def update(attr, old, new):\n",
    "    layout.children[1] = create_figure()\n",
    "\n",
    "\n",
    "origin = Select(title=\"Origin\", value=\"Europe\", options=list(df[\"origin\"].unique()))\n",
    "origin.on_change(\"value\", update)\n",
    "\n",
    "controls = column(origin, width=200)\n",
    "layout = row(controls, create_figure())\n",
    "\n",
    "show(layout)"
   ]
  }
 ],
 "metadata": {
  "kernelspec": {
   "display_name": "Python 3 (ipykernel)",
   "language": "python",
   "name": "python3"
  },
  "language_info": {
   "codemirror_mode": {
    "name": "ipython",
    "version": 3
   },
   "file_extension": ".py",
   "mimetype": "text/x-python",
   "name": "python",
   "nbconvert_exporter": "python",
   "pygments_lexer": "ipython3",
   "version": "3.12.2"
  }
 },
 "nbformat": 4,
 "nbformat_minor": 5
}
